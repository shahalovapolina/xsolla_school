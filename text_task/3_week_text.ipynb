{
 "cells": [
  {
   "cell_type": "markdown",
   "metadata": {},
   "source": [
    "To-do:\n",
    "1. Текст был очищен только от одного мусорного элемента в качестве примера. Исслудйте данные через ноутбук или чере веб-интерфейс BigQuery на предмет других мусорных элементов в тексте, которые не несут в себе никакого особого смысла, а только создают шум в данных. Доработайте функцию очистки тектосвых данных, чтобы в нее можно было передать список ненужного мусора и разом выполнялась очистка\n",
    "2. Проведите стратифицировнную кросс-валидуцию нейросетевого классификатора https://scikit-learn.org/stable/modules/generated/sklearn.model_selection.StratifiedKFold.html\n",
    "3. Поэксперементируйте с гиперпараметрами нейросетевого классификатора, постарайтесь повысить качество его работы\n",
    "--------------------------------------------------------------------------------------------------------------------------------------------------------------------------------------------\n",
    "4. Попробуйте использовать не Word2Vec для получения векторого представления текста, а TF-IDF преобразование http://zabaykin.ru/?p=558 http://nlpx.net/archives/57\n",
    "5. Попробуйте использовать более тонко настриваемые алгоритмы нейросетей, например из этого видео https://www.youtube.com/watch?v=cPkH1k3U1c8 "
   ]
  },
  {
   "cell_type": "code",
   "execution_count": 2,
   "metadata": {},
   "outputs": [
    {
     "name": "stderr",
     "output_type": "stream",
     "text": [
      "[nltk_data] Downloading package stopwords to\n",
      "[nltk_data]     C:\\Users\\Polina\\AppData\\Roaming\\nltk_data...\n",
      "[nltk_data]   Package stopwords is already up-to-date!\n"
     ]
    }
   ],
   "source": [
    "import warnings\n",
    "warnings.filterwarnings('ignore')\n",
    "\n",
    "from google.oauth2 import service_account\n",
    "import pandas_gbq \n",
    "\n",
    "import numpy as np\n",
    "import pandas as pd\n",
    "import math as mt\n",
    "import datetime as dt\n",
    "\n",
    "from langdetect import detect\n",
    "import re\n",
    "\n",
    "from sklearn.model_selection import train_test_split\n",
    "from sklearn.model_selection import cross_val_score\n",
    "from sklearn.model_selection import StratifiedKFold\n",
    "from sklearn.metrics import classification_report,confusion_matrix\n",
    "from gensim.models.word2vec import Word2Vec\n",
    "from sklearn.neural_network import MLPClassifier\n",
    "from sklearn.metrics import roc_curve,auc\n",
    "import matplotlib.pyplot as plt\n",
    "\n",
    "import nltk\n",
    "nltk.download(\"stopwords\")\n",
    "from nltk.corpus import stopwords\n",
    "\n",
    "from sklearn.feature_extraction.text import TfidfVectorizer\n",
    "\n",
    "from sklearn.feature_extraction.text import CountVectorizer \n",
    "\n",
    "from sklearn.feature_extraction.text import TfidfTransformer "
   ]
  },
  {
   "cell_type": "code",
   "execution_count": null,
   "metadata": {},
   "outputs": [],
   "source": [
    "!pip install langdetect\n"
   ]
  },
  {
   "cell_type": "code",
   "execution_count": null,
   "metadata": {},
   "outputs": [],
   "source": [
    "!pip install gensim"
   ]
  },
  {
   "cell_type": "code",
   "execution_count": 5,
   "metadata": {},
   "outputs": [],
   "source": [
    "CREDENTIALS = service_account.Credentials.from_service_account_info({})"
   ]
  },
  {
   "cell_type": "code",
   "execution_count": 6,
   "metadata": {},
   "outputs": [],
   "source": [
    "#funtion for getting fresh data from DWH for workload model\n",
    "\"\"\"[summary]\n",
    "Funtion for getting fresh data from BigQuery for workload scoring model\n",
    "[description]\n",
    "Credentials - google service account object with credentials data for project\n",
    "[example]\n",
    "Input: Credentials = credentials_object\n",
    "Output: description\t                                        channel\t category\tcategory_flag\n",
    "        \\nChat transcript:\\nVisitor: I want to buy wit...\tchat\t ps\t        1\n",
    "        \\nChat transcript:\\nVisitor: hell i had a prob...\tchat\t ps\t        1\n",
    "        \\nChat transcript:\\nVisitor: لا استطيع الشراء ...\t chat\t  ps\t     1\n",
    "\"\"\"\n",
    "def getDwhData(Credentials):\n",
    "    statement_bigquery_sql = \" \".join([\"select description, channel, case\",\n",
    "                                       \"when manual_category in ('payment_problem','how_to_pay','howtopay','how_to_play','paystation_error','ps_problem','ps_declined') then 'ps'\",\n",
    "                                       \"else 'other'\",\n",
    "                                       \"end as category,\",\n",
    "                                       \"case\",\n",
    "                                       \"when manual_category in ('payment_problem','how_to_pay','howtopay','how_to_play','paystation_error','ps_problem','ps_declined') then 0\",\n",
    "                                       \"else 1\",\n",
    "                                       \"end as category_flag\",\n",
    "                                       \"from `xsolla_summer_school.customer_support`\",\n",
    "                                       \"where manual_category is not null and\",\n",
    "                                       \"manual_category <> '' and\",\n",
    "                                       \"description is not null and\",\n",
    "                                       \"description <> '' and\",\n",
    "                                       \"channel is not null and\",\n",
    "                                       \"channel <> '' and\",\n",
    "                                       \"channel in ('chat','facebook')\"])\n",
    "    \n",
    "    dataframe_bigquery = pandas_gbq.read_gbq(statement_bigquery_sql,project_id='findcsystem', credentials=Credentials, dialect='standard')\n",
    "\n",
    "    return dataframe_bigquery\n",
    "\n",
    "\n",
    "\"\"\"[summary]\n",
    "Function for transform text to lower case\n",
    "[description]\n",
    "Corpus - list or array object, with text data\n",
    "[example]\n",
    "Input: Corpus = [\"Text_1\",\"Text_2\"]\n",
    "Output: [\"text_1\",\"text_2\"]\n",
    "\"\"\"\n",
    "def lowerCase(Corpus):\n",
    "    corpus = [i.lower().replace('\\n','') for i in Corpus]\n",
    "    return corpus\n",
    "\n",
    "\n",
    "\"\"\"[summary]\n",
    "Function for getting language of text\n",
    "[description]\n",
    "Corpus - list or array object, with text data\n",
    "[example]\n",
    "Input: Corpus = [\"Text_1\",\"Text_2\"]\n",
    "Output: [\"en\",\"ru\"]\n",
    "\"\"\"\n",
    "def getTextLanguage(Corpus):\n",
    "    txt_lang = []\n",
    "    for txt in Corpus:\n",
    "        try:\n",
    "            lang = detect(txt)\n",
    "            txt_lang.append(lang)\n",
    "        except:\n",
    "            lang = 'error'\n",
    "            txt_lang.append(lang)\n",
    "    \n",
    "    return txt_lang\n",
    "\n",
    "\n",
    "\"\"\"[summary]\n",
    "Function for tokenization text\n",
    "[description]\n",
    "Corpus - list or array object, with text data\n",
    "[example]\n",
    "Input: Corpus = [\"word1 word2\",\"word3 word4\"]\n",
    "Output: [[\"word1\",\"word2\"],[\"word3\",\"word4\"]]\n",
    "\"\"\"  \n",
    "def textToTokens(Corpus):\n",
    "    corpus = [i.split() for i in Corpus]\n",
    "    return corpus \n",
    "\n",
    "\n",
    "# удаление ссылок\n",
    "def clearTextFromLinks(text):\n",
    "    text_without_http=[]\n",
    "    for sentence in text:   \n",
    "        sentence_without_http = list(filter(lambda word: \n",
    "                            not re.search(r'transcript:visitor:', word) and\n",
    "                            not re.search(r'http://', word) and \n",
    "                            not re.search(r'https://', word), \n",
    "                     sentence))\n",
    "        text_without_http.append(sentence_without_http)        \n",
    "    return text_without_http\n",
    "\n",
    "\n",
    "# удаление символов и цифр\n",
    "def clearTextFromNotLetter(text):\n",
    "    clear_text = []\n",
    "    for sentence in text:\n",
    "        clear_sentence=[]\n",
    "        for word in sentence:\n",
    "            clear_words = re.split(r'[\\d\\W\\']+', word)\n",
    "            for j in clear_words:\n",
    "                if len(j) > 1:\n",
    "                    clear_sentence.append(j)\n",
    "        clear_text.append(clear_sentence)\n",
    "    return clear_text\n",
    "\n",
    "\"\"\"[summary]\n",
    "Function for clear text after garbage\n",
    "[description]\n",
    "Corpus - list or array object, with text data\n",
    "Substr - string, regular expression\n",
    "[example]\n",
    "Input: Corpus = [[\"word1\",\"word2\"],[\"word3\",\"word4\"]]\n",
    "       Substr = r'word1\n",
    "Output: [[\"word2\"],[\"word3\",\"word4\"]]\n",
    "\"\"\"  \n",
    "# удаление мусорных элементов\n",
    "def clearTextAfterGarbage(Corpus,Substr):\n",
    "    clear_corpus = []\n",
    "    for text in Corpus:\n",
    "        prepared_text = []\n",
    "        for i in range(0, len(text)):\n",
    "            cur_word = text[i]\n",
    "            if type(Substr) is list:\n",
    "                res = cur_word in Substr\n",
    "#                 else:\n",
    "#                      res = re.search(Substr, cur_word)\n",
    "            if res == False:\n",
    "                prepared_text.append(cur_word)\n",
    "\n",
    "        clear_corpus.append(prepared_text)\n",
    "            \n",
    "    clear_text=clearTextFromNotLetter(clearTextFromLinks(clear_corpus))\n",
    "    return clear_text\n",
    "\n",
    "# топ часто встречаемых слов в датасете\n",
    "def TopWords(list):\n",
    "    top_words=[]\n",
    "    for x in list:\n",
    "        for i in x:\n",
    "            top_words.append(i)\n",
    "    frequency = {}\n",
    "    for word in top_words:\n",
    "        count = frequency.get(word,0)\n",
    "        frequency[word] = count + 1\n",
    "\n",
    "    frequency_list = frequency.keys()\n",
    "    ranked_words = []\n",
    "\n",
    "    for words in frequency_list:\n",
    "        ranked_words.append([words, frequency[words]])\n",
    "    ranked_words.sort(key=lambda x: x[1], reverse=True)\n",
    "    return ranked_words\n",
    "\n",
    "\"\"\"[summary]\n",
    "Build word vector by using pre-trained Word2Vec model\n",
    "[description]\n",
    "Size - lenght of vector\n",
    "Word2Vec_Model - gensim object\n",
    "\"\"\"  \n",
    "def buildWordVector(Text,Size,Word2Vec_Model):\n",
    "    vec = np.zeros(Size).reshape((1,Size))\n",
    "    count = 0.\n",
    "\n",
    "    for word in Text:\n",
    "        try:\n",
    "            vec += Word2Vec_Model[word].reshape((1,Size))\n",
    "            count += 1.\n",
    "        except KeyError:\n",
    "            continue\n",
    "    \n",
    "    if count != 0:\n",
    "        vec /= count\n",
    "    \n",
    "    return vec\n",
    "\n",
    "\n",
    "# count repeated words\n",
    "def calcRepetitionWords(words):\n",
    "    repetitionsWords = {}\n",
    "    for word in words:\n",
    "        if not repetitionsWords.get(word):\n",
    "            repetitionsWords[word] = 1\n",
    "        else:\n",
    "            repetitionsWords[word] += 1\n",
    "    return repetitionsWords\n",
    "\n",
    "\n",
    "# count overlapping words\n",
    "def calcIntersectionsWithQuantityInWords(fWords, sWords):\n",
    "    repetitionsFWords = calcRepetitionWords(fWords)\n",
    "    repetitionsSWords = calcRepetitionWords(sWords)\n",
    "    intersectionRepetitionsWords = {}\n",
    "    for word in repetitionsFWords:\n",
    "        if repetitionsSWords.get(word):\n",
    "            intersectionRepetitionsWords[word] = repetitionsFWords[word] + repetitionsSWords[word]\n",
    "    return intersectionRepetitionsWords"
   ]
  },
  {
   "cell_type": "markdown",
   "metadata": {},
   "source": [
    "RAWDATA "
   ]
  },
  {
   "cell_type": "code",
   "execution_count": 7,
   "metadata": {},
   "outputs": [
    {
     "name": "stderr",
     "output_type": "stream",
     "text": [
      "Downloading: 100%|███████████████████████████████████████████████████████████| 23450/23450 [00:20<00:00, 1140.79rows/s]\n"
     ]
    },
    {
     "data": {
      "text/plain": [
       "(23450, 4)"
      ]
     },
     "execution_count": 7,
     "metadata": {},
     "output_type": "execute_result"
    }
   ],
   "source": [
    "#getting data from dwh\n",
    "SupportRawDataframe = getDwhData(CREDENTIALS)\n",
    "SupportRawDataframe.shape"
   ]
  },
  {
   "cell_type": "code",
   "execution_count": 8,
   "metadata": {},
   "outputs": [
    {
     "data": {
      "text/html": [
       "<div>\n",
       "<style scoped>\n",
       "    .dataframe tbody tr th:only-of-type {\n",
       "        vertical-align: middle;\n",
       "    }\n",
       "\n",
       "    .dataframe tbody tr th {\n",
       "        vertical-align: top;\n",
       "    }\n",
       "\n",
       "    .dataframe thead th {\n",
       "        text-align: right;\n",
       "    }\n",
       "</style>\n",
       "<table border=\"1\" class=\"dataframe\">\n",
       "  <thead>\n",
       "    <tr style=\"text-align: right;\">\n",
       "      <th></th>\n",
       "      <th>description</th>\n",
       "      <th>channel</th>\n",
       "      <th>category</th>\n",
       "      <th>category_flag</th>\n",
       "    </tr>\n",
       "  </thead>\n",
       "  <tbody>\n",
       "    <tr>\n",
       "      <td>0</td>\n",
       "      <td>\\nChat transcript:\\nVisitor: I want to buy wit...</td>\n",
       "      <td>chat</td>\n",
       "      <td>ps</td>\n",
       "      <td>0</td>\n",
       "    </tr>\n",
       "    <tr>\n",
       "      <td>1</td>\n",
       "      <td>\\nChat transcript:\\nVisitor: hell i had a prob...</td>\n",
       "      <td>chat</td>\n",
       "      <td>ps</td>\n",
       "      <td>0</td>\n",
       "    </tr>\n",
       "    <tr>\n",
       "      <td>2</td>\n",
       "      <td>\\nChat transcript:\\nVisitor: لا استطيع الشراء ...</td>\n",
       "      <td>chat</td>\n",
       "      <td>ps</td>\n",
       "      <td>0</td>\n",
       "    </tr>\n",
       "    <tr>\n",
       "      <td>3</td>\n",
       "      <td>\\nChat transcript:\\nVisitor: im having trouble...</td>\n",
       "      <td>chat</td>\n",
       "      <td>ps</td>\n",
       "      <td>0</td>\n",
       "    </tr>\n",
       "    <tr>\n",
       "      <td>4</td>\n",
       "      <td>\\nChat transcript:\\nVisitor: Hi\\nAna: Hello. H...</td>\n",
       "      <td>chat</td>\n",
       "      <td>ps</td>\n",
       "      <td>0</td>\n",
       "    </tr>\n",
       "    <tr>\n",
       "      <td>5</td>\n",
       "      <td>\\nChat transcript:\\nVisitor: Здраствуйте\\nAna:...</td>\n",
       "      <td>chat</td>\n",
       "      <td>ps</td>\n",
       "      <td>0</td>\n",
       "    </tr>\n",
       "    <tr>\n",
       "      <td>6</td>\n",
       "      <td>\\nChat transcript:\\nVisitor: hello\\nVisitor: w...</td>\n",
       "      <td>chat</td>\n",
       "      <td>ps</td>\n",
       "      <td>0</td>\n",
       "    </tr>\n",
       "    <tr>\n",
       "      <td>7</td>\n",
       "      <td>\\nChat transcript:\\nVisitor: not letting me bu...</td>\n",
       "      <td>chat</td>\n",
       "      <td>ps</td>\n",
       "      <td>0</td>\n",
       "    </tr>\n",
       "    <tr>\n",
       "      <td>8</td>\n",
       "      <td>\\nChat transcript:\\nVisitor: مرحبا\\nAna: Hello...</td>\n",
       "      <td>chat</td>\n",
       "      <td>ps</td>\n",
       "      <td>0</td>\n",
       "    </tr>\n",
       "    <tr>\n",
       "      <td>9</td>\n",
       "      <td>\\nChat transcript:\\nVisitor: hi im trying to b...</td>\n",
       "      <td>chat</td>\n",
       "      <td>ps</td>\n",
       "      <td>0</td>\n",
       "    </tr>\n",
       "  </tbody>\n",
       "</table>\n",
       "</div>"
      ],
      "text/plain": [
       "                                         description channel category  \\\n",
       "0  \\nChat transcript:\\nVisitor: I want to buy wit...    chat       ps   \n",
       "1  \\nChat transcript:\\nVisitor: hell i had a prob...    chat       ps   \n",
       "2  \\nChat transcript:\\nVisitor: لا استطيع الشراء ...    chat       ps   \n",
       "3  \\nChat transcript:\\nVisitor: im having trouble...    chat       ps   \n",
       "4  \\nChat transcript:\\nVisitor: Hi\\nAna: Hello. H...    chat       ps   \n",
       "5  \\nChat transcript:\\nVisitor: Здраствуйте\\nAna:...    chat       ps   \n",
       "6  \\nChat transcript:\\nVisitor: hello\\nVisitor: w...    chat       ps   \n",
       "7  \\nChat transcript:\\nVisitor: not letting me bu...    chat       ps   \n",
       "8  \\nChat transcript:\\nVisitor: مرحبا\\nAna: Hello...    chat       ps   \n",
       "9  \\nChat transcript:\\nVisitor: hi im trying to b...    chat       ps   \n",
       "\n",
       "   category_flag  \n",
       "0              0  \n",
       "1              0  \n",
       "2              0  \n",
       "3              0  \n",
       "4              0  \n",
       "5              0  \n",
       "6              0  \n",
       "7              0  \n",
       "8              0  \n",
       "9              0  "
      ]
     },
     "execution_count": 8,
     "metadata": {},
     "output_type": "execute_result"
    }
   ],
   "source": [
    "SupportRawDataframe.head(10)"
   ]
  },
  {
   "cell_type": "code",
   "execution_count": 9,
   "metadata": {},
   "outputs": [
    {
     "data": {
      "text/html": [
       "<div>\n",
       "<style scoped>\n",
       "    .dataframe tbody tr th:only-of-type {\n",
       "        vertical-align: middle;\n",
       "    }\n",
       "\n",
       "    .dataframe tbody tr th {\n",
       "        vertical-align: top;\n",
       "    }\n",
       "\n",
       "    .dataframe thead th {\n",
       "        text-align: right;\n",
       "    }\n",
       "</style>\n",
       "<table border=\"1\" class=\"dataframe\">\n",
       "  <thead>\n",
       "    <tr style=\"text-align: right;\">\n",
       "      <th></th>\n",
       "      <th>description</th>\n",
       "      <th>channel</th>\n",
       "      <th>category</th>\n",
       "      <th>category_flag</th>\n",
       "    </tr>\n",
       "  </thead>\n",
       "  <tbody>\n",
       "    <tr>\n",
       "      <td>23440</td>\n",
       "      <td>\\nChat transcript:\\nVisitor: Hello, I bought p...</td>\n",
       "      <td>chat</td>\n",
       "      <td>other</td>\n",
       "      <td>1</td>\n",
       "    </tr>\n",
       "    <tr>\n",
       "      <td>23441</td>\n",
       "      <td>\\nChat transcript:\\nVisitor: Good day\\n\\nI acc...</td>\n",
       "      <td>facebook</td>\n",
       "      <td>other</td>\n",
       "      <td>1</td>\n",
       "    </tr>\n",
       "    <tr>\n",
       "      <td>23442</td>\n",
       "      <td>\\nChat transcript:\\nVisitor: payment not going...</td>\n",
       "      <td>chat</td>\n",
       "      <td>other</td>\n",
       "      <td>1</td>\n",
       "    </tr>\n",
       "    <tr>\n",
       "      <td>23443</td>\n",
       "      <td>\\nChat transcript:\\nVisitor: Paid for faceit s...</td>\n",
       "      <td>chat</td>\n",
       "      <td>other</td>\n",
       "      <td>1</td>\n",
       "    </tr>\n",
       "    <tr>\n",
       "      <td>23444</td>\n",
       "      <td>\\nChat transcript:\\nVisitor: Hello, I am tryin...</td>\n",
       "      <td>chat</td>\n",
       "      <td>other</td>\n",
       "      <td>1</td>\n",
       "    </tr>\n",
       "    <tr>\n",
       "      <td>23445</td>\n",
       "      <td>\\nChat transcript:\\nVisitor: Hi, i made a pruc...</td>\n",
       "      <td>chat</td>\n",
       "      <td>other</td>\n",
       "      <td>1</td>\n",
       "    </tr>\n",
       "    <tr>\n",
       "      <td>23446</td>\n",
       "      <td>\\nChat transcript:\\nVisitor: Hi, how long will...</td>\n",
       "      <td>chat</td>\n",
       "      <td>other</td>\n",
       "      <td>1</td>\n",
       "    </tr>\n",
       "    <tr>\n",
       "      <td>23447</td>\n",
       "      <td>\\nChat transcript:\\nVisitor: I bought playerun...</td>\n",
       "      <td>chat</td>\n",
       "      <td>other</td>\n",
       "      <td>1</td>\n",
       "    </tr>\n",
       "    <tr>\n",
       "      <td>23448</td>\n",
       "      <td>\\nChat transcript:\\nVisitor: Good day i took t...</td>\n",
       "      <td>chat</td>\n",
       "      <td>other</td>\n",
       "      <td>1</td>\n",
       "    </tr>\n",
       "    <tr>\n",
       "      <td>23449</td>\n",
       "      <td>\\nChat transcript:\\nVisitor: hi\\nVisitor: hell...</td>\n",
       "      <td>chat</td>\n",
       "      <td>other</td>\n",
       "      <td>1</td>\n",
       "    </tr>\n",
       "  </tbody>\n",
       "</table>\n",
       "</div>"
      ],
      "text/plain": [
       "                                             description   channel category  \\\n",
       "23440  \\nChat transcript:\\nVisitor: Hello, I bought p...      chat    other   \n",
       "23441  \\nChat transcript:\\nVisitor: Good day\\n\\nI acc...  facebook    other   \n",
       "23442  \\nChat transcript:\\nVisitor: payment not going...      chat    other   \n",
       "23443  \\nChat transcript:\\nVisitor: Paid for faceit s...      chat    other   \n",
       "23444  \\nChat transcript:\\nVisitor: Hello, I am tryin...      chat    other   \n",
       "23445  \\nChat transcript:\\nVisitor: Hi, i made a pruc...      chat    other   \n",
       "23446  \\nChat transcript:\\nVisitor: Hi, how long will...      chat    other   \n",
       "23447  \\nChat transcript:\\nVisitor: I bought playerun...      chat    other   \n",
       "23448  \\nChat transcript:\\nVisitor: Good day i took t...      chat    other   \n",
       "23449  \\nChat transcript:\\nVisitor: hi\\nVisitor: hell...      chat    other   \n",
       "\n",
       "       category_flag  \n",
       "23440              1  \n",
       "23441              1  \n",
       "23442              1  \n",
       "23443              1  \n",
       "23444              1  \n",
       "23445              1  \n",
       "23446              1  \n",
       "23447              1  \n",
       "23448              1  \n",
       "23449              1  "
      ]
     },
     "execution_count": 9,
     "metadata": {},
     "output_type": "execute_result"
    }
   ],
   "source": [
    "SupportRawDataframe.tail(10)"
   ]
  },
  {
   "cell_type": "markdown",
   "metadata": {},
   "source": [
    "DATA PREPROC"
   ]
  },
  {
   "cell_type": "code",
   "execution_count": 10,
   "metadata": {},
   "outputs": [],
   "source": [
    "#transform text to lower case\n",
    "corpus = SupportRawDataframe.description\n",
    "corpus.astype('str')\n",
    "\n",
    "corpus = lowerCase(corpus)\n",
    "\n",
    "#getting language for text corpus\n",
    "corpus_lang = getTextLanguage(corpus)"
   ]
  },
  {
   "cell_type": "code",
   "execution_count": 11,
   "metadata": {},
   "outputs": [],
   "source": [
    "#new dataframe with texts in lower case, without /n symbol and with lang for text\n",
    "SupportRawDataframe['description'] = corpus\n",
    "SupportRawDataframe['lang'] = corpus_lang"
   ]
  },
  {
   "cell_type": "code",
   "execution_count": 12,
   "metadata": {},
   "outputs": [
    {
     "data": {
      "text/html": [
       "<div>\n",
       "<style scoped>\n",
       "    .dataframe tbody tr th:only-of-type {\n",
       "        vertical-align: middle;\n",
       "    }\n",
       "\n",
       "    .dataframe tbody tr th {\n",
       "        vertical-align: top;\n",
       "    }\n",
       "\n",
       "    .dataframe thead th {\n",
       "        text-align: right;\n",
       "    }\n",
       "</style>\n",
       "<table border=\"1\" class=\"dataframe\">\n",
       "  <thead>\n",
       "    <tr style=\"text-align: right;\">\n",
       "      <th></th>\n",
       "      <th>description</th>\n",
       "      <th>channel</th>\n",
       "      <th>category</th>\n",
       "      <th>category_flag</th>\n",
       "      <th>lang</th>\n",
       "    </tr>\n",
       "  </thead>\n",
       "  <tbody>\n",
       "    <tr>\n",
       "      <td>0</td>\n",
       "      <td>chat transcript:visitor: i want to buy with pa...</td>\n",
       "      <td>chat</td>\n",
       "      <td>ps</td>\n",
       "      <td>0</td>\n",
       "      <td>en</td>\n",
       "    </tr>\n",
       "    <tr>\n",
       "      <td>1</td>\n",
       "      <td>chat transcript:visitor: hell i had a problem ...</td>\n",
       "      <td>chat</td>\n",
       "      <td>ps</td>\n",
       "      <td>0</td>\n",
       "      <td>en</td>\n",
       "    </tr>\n",
       "    <tr>\n",
       "      <td>2</td>\n",
       "      <td>chat transcript:visitor: لا استطيع الشراء ومعل...</td>\n",
       "      <td>chat</td>\n",
       "      <td>ps</td>\n",
       "      <td>0</td>\n",
       "      <td>en</td>\n",
       "    </tr>\n",
       "    <tr>\n",
       "      <td>3</td>\n",
       "      <td>chat transcript:visitor: im having trouble wit...</td>\n",
       "      <td>chat</td>\n",
       "      <td>ps</td>\n",
       "      <td>0</td>\n",
       "      <td>en</td>\n",
       "    </tr>\n",
       "    <tr>\n",
       "      <td>4</td>\n",
       "      <td>chat transcript:visitor: hiana: hello. how can...</td>\n",
       "      <td>chat</td>\n",
       "      <td>ps</td>\n",
       "      <td>0</td>\n",
       "      <td>en</td>\n",
       "    </tr>\n",
       "    <tr>\n",
       "      <td>5</td>\n",
       "      <td>chat transcript:visitor: здраствуйтеana: здрав...</td>\n",
       "      <td>chat</td>\n",
       "      <td>ps</td>\n",
       "      <td>0</td>\n",
       "      <td>ru</td>\n",
       "    </tr>\n",
       "    <tr>\n",
       "      <td>6</td>\n",
       "      <td>chat transcript:visitor: hellovisitor: why i c...</td>\n",
       "      <td>chat</td>\n",
       "      <td>ps</td>\n",
       "      <td>0</td>\n",
       "      <td>en</td>\n",
       "    </tr>\n",
       "    <tr>\n",
       "      <td>7</td>\n",
       "      <td>chat transcript:visitor: not letting me buy an...</td>\n",
       "      <td>chat</td>\n",
       "      <td>ps</td>\n",
       "      <td>0</td>\n",
       "      <td>en</td>\n",
       "    </tr>\n",
       "    <tr>\n",
       "      <td>8</td>\n",
       "      <td>chat transcript:visitor: مرحباana: hello!visit...</td>\n",
       "      <td>chat</td>\n",
       "      <td>ps</td>\n",
       "      <td>0</td>\n",
       "      <td>en</td>\n",
       "    </tr>\n",
       "    <tr>\n",
       "      <td>9</td>\n",
       "      <td>chat transcript:visitor: hi im trying to buy v...</td>\n",
       "      <td>chat</td>\n",
       "      <td>ps</td>\n",
       "      <td>0</td>\n",
       "      <td>en</td>\n",
       "    </tr>\n",
       "  </tbody>\n",
       "</table>\n",
       "</div>"
      ],
      "text/plain": [
       "                                         description channel category  \\\n",
       "0  chat transcript:visitor: i want to buy with pa...    chat       ps   \n",
       "1  chat transcript:visitor: hell i had a problem ...    chat       ps   \n",
       "2  chat transcript:visitor: لا استطيع الشراء ومعل...    chat       ps   \n",
       "3  chat transcript:visitor: im having trouble wit...    chat       ps   \n",
       "4  chat transcript:visitor: hiana: hello. how can...    chat       ps   \n",
       "5  chat transcript:visitor: здраствуйтеana: здрав...    chat       ps   \n",
       "6  chat transcript:visitor: hellovisitor: why i c...    chat       ps   \n",
       "7  chat transcript:visitor: not letting me buy an...    chat       ps   \n",
       "8  chat transcript:visitor: مرحباana: hello!visit...    chat       ps   \n",
       "9  chat transcript:visitor: hi im trying to buy v...    chat       ps   \n",
       "\n",
       "   category_flag lang  \n",
       "0              0   en  \n",
       "1              0   en  \n",
       "2              0   en  \n",
       "3              0   en  \n",
       "4              0   en  \n",
       "5              0   ru  \n",
       "6              0   en  \n",
       "7              0   en  \n",
       "8              0   en  \n",
       "9              0   en  "
      ]
     },
     "execution_count": 12,
     "metadata": {},
     "output_type": "execute_result"
    }
   ],
   "source": [
    "SupportRawDataframe.head(10)"
   ]
  },
  {
   "cell_type": "code",
   "execution_count": 13,
   "metadata": {},
   "outputs": [
    {
     "data": {
      "text/html": [
       "<div>\n",
       "<style scoped>\n",
       "    .dataframe tbody tr th:only-of-type {\n",
       "        vertical-align: middle;\n",
       "    }\n",
       "\n",
       "    .dataframe tbody tr th {\n",
       "        vertical-align: top;\n",
       "    }\n",
       "\n",
       "    .dataframe thead th {\n",
       "        text-align: right;\n",
       "    }\n",
       "</style>\n",
       "<table border=\"1\" class=\"dataframe\">\n",
       "  <thead>\n",
       "    <tr style=\"text-align: right;\">\n",
       "      <th></th>\n",
       "      <th>description</th>\n",
       "      <th>channel</th>\n",
       "      <th>category</th>\n",
       "      <th>category_flag</th>\n",
       "      <th>lang</th>\n",
       "    </tr>\n",
       "  </thead>\n",
       "  <tbody>\n",
       "    <tr>\n",
       "      <td>23440</td>\n",
       "      <td>chat transcript:visitor: hello, i bought pubg ...</td>\n",
       "      <td>chat</td>\n",
       "      <td>other</td>\n",
       "      <td>1</td>\n",
       "      <td>en</td>\n",
       "    </tr>\n",
       "    <tr>\n",
       "      <td>23441</td>\n",
       "      <td>chat transcript:visitor: good dayi accidentall...</td>\n",
       "      <td>facebook</td>\n",
       "      <td>other</td>\n",
       "      <td>1</td>\n",
       "      <td>en</td>\n",
       "    </tr>\n",
       "    <tr>\n",
       "      <td>23442</td>\n",
       "      <td>chat transcript:visitor: payment not going thr...</td>\n",
       "      <td>chat</td>\n",
       "      <td>other</td>\n",
       "      <td>1</td>\n",
       "      <td>en</td>\n",
       "    </tr>\n",
       "    <tr>\n",
       "      <td>23443</td>\n",
       "      <td>chat transcript:visitor: paid for faceit subsc...</td>\n",
       "      <td>chat</td>\n",
       "      <td>other</td>\n",
       "      <td>1</td>\n",
       "      <td>en</td>\n",
       "    </tr>\n",
       "    <tr>\n",
       "      <td>23444</td>\n",
       "      <td>chat transcript:visitor: hello, i am trying to...</td>\n",
       "      <td>chat</td>\n",
       "      <td>other</td>\n",
       "      <td>1</td>\n",
       "      <td>en</td>\n",
       "    </tr>\n",
       "    <tr>\n",
       "      <td>23445</td>\n",
       "      <td>chat transcript:visitor: hi, i made a pruchase...</td>\n",
       "      <td>chat</td>\n",
       "      <td>other</td>\n",
       "      <td>1</td>\n",
       "      <td>en</td>\n",
       "    </tr>\n",
       "    <tr>\n",
       "      <td>23446</td>\n",
       "      <td>chat transcript:visitor: hi, how long will it ...</td>\n",
       "      <td>chat</td>\n",
       "      <td>other</td>\n",
       "      <td>1</td>\n",
       "      <td>en</td>\n",
       "    </tr>\n",
       "    <tr>\n",
       "      <td>23447</td>\n",
       "      <td>chat transcript:visitor: i bought playerunknow...</td>\n",
       "      <td>chat</td>\n",
       "      <td>other</td>\n",
       "      <td>1</td>\n",
       "      <td>en</td>\n",
       "    </tr>\n",
       "    <tr>\n",
       "      <td>23448</td>\n",
       "      <td>chat transcript:visitor: good day i took the w...</td>\n",
       "      <td>chat</td>\n",
       "      <td>other</td>\n",
       "      <td>1</td>\n",
       "      <td>en</td>\n",
       "    </tr>\n",
       "    <tr>\n",
       "      <td>23449</td>\n",
       "      <td>chat transcript:visitor: hivisitor: hellovisit...</td>\n",
       "      <td>chat</td>\n",
       "      <td>other</td>\n",
       "      <td>1</td>\n",
       "      <td>en</td>\n",
       "    </tr>\n",
       "  </tbody>\n",
       "</table>\n",
       "</div>"
      ],
      "text/plain": [
       "                                             description   channel category  \\\n",
       "23440  chat transcript:visitor: hello, i bought pubg ...      chat    other   \n",
       "23441  chat transcript:visitor: good dayi accidentall...  facebook    other   \n",
       "23442  chat transcript:visitor: payment not going thr...      chat    other   \n",
       "23443  chat transcript:visitor: paid for faceit subsc...      chat    other   \n",
       "23444  chat transcript:visitor: hello, i am trying to...      chat    other   \n",
       "23445  chat transcript:visitor: hi, i made a pruchase...      chat    other   \n",
       "23446  chat transcript:visitor: hi, how long will it ...      chat    other   \n",
       "23447  chat transcript:visitor: i bought playerunknow...      chat    other   \n",
       "23448  chat transcript:visitor: good day i took the w...      chat    other   \n",
       "23449  chat transcript:visitor: hivisitor: hellovisit...      chat    other   \n",
       "\n",
       "       category_flag lang  \n",
       "23440              1   en  \n",
       "23441              1   en  \n",
       "23442              1   en  \n",
       "23443              1   en  \n",
       "23444              1   en  \n",
       "23445              1   en  \n",
       "23446              1   en  \n",
       "23447              1   en  \n",
       "23448              1   en  \n",
       "23449              1   en  "
      ]
     },
     "execution_count": 13,
     "metadata": {},
     "output_type": "execute_result"
    }
   ],
   "source": [
    "SupportRawDataframe.tail(10)"
   ]
  },
  {
   "cell_type": "code",
   "execution_count": 14,
   "metadata": {},
   "outputs": [
    {
     "data": {
      "text/html": [
       "<div>\n",
       "<style scoped>\n",
       "    .dataframe tbody tr th:only-of-type {\n",
       "        vertical-align: middle;\n",
       "    }\n",
       "\n",
       "    .dataframe tbody tr th {\n",
       "        vertical-align: top;\n",
       "    }\n",
       "\n",
       "    .dataframe thead th {\n",
       "        text-align: right;\n",
       "    }\n",
       "</style>\n",
       "<table border=\"1\" class=\"dataframe\">\n",
       "  <thead>\n",
       "    <tr style=\"text-align: right;\">\n",
       "      <th></th>\n",
       "      <th>description</th>\n",
       "      <th>channel</th>\n",
       "      <th>category</th>\n",
       "      <th>category_flag</th>\n",
       "      <th>lang</th>\n",
       "    </tr>\n",
       "  </thead>\n",
       "  <tbody>\n",
       "    <tr>\n",
       "      <td>0</td>\n",
       "      <td>chat transcript:visitor: i want to buy with pa...</td>\n",
       "      <td>chat</td>\n",
       "      <td>ps</td>\n",
       "      <td>0</td>\n",
       "      <td>en</td>\n",
       "    </tr>\n",
       "    <tr>\n",
       "      <td>1</td>\n",
       "      <td>chat transcript:visitor: hell i had a problem ...</td>\n",
       "      <td>chat</td>\n",
       "      <td>ps</td>\n",
       "      <td>0</td>\n",
       "      <td>en</td>\n",
       "    </tr>\n",
       "    <tr>\n",
       "      <td>2</td>\n",
       "      <td>chat transcript:visitor: لا استطيع الشراء ومعل...</td>\n",
       "      <td>chat</td>\n",
       "      <td>ps</td>\n",
       "      <td>0</td>\n",
       "      <td>en</td>\n",
       "    </tr>\n",
       "    <tr>\n",
       "      <td>3</td>\n",
       "      <td>chat transcript:visitor: im having trouble wit...</td>\n",
       "      <td>chat</td>\n",
       "      <td>ps</td>\n",
       "      <td>0</td>\n",
       "      <td>en</td>\n",
       "    </tr>\n",
       "    <tr>\n",
       "      <td>4</td>\n",
       "      <td>chat transcript:visitor: hiana: hello. how can...</td>\n",
       "      <td>chat</td>\n",
       "      <td>ps</td>\n",
       "      <td>0</td>\n",
       "      <td>en</td>\n",
       "    </tr>\n",
       "    <tr>\n",
       "      <td>...</td>\n",
       "      <td>...</td>\n",
       "      <td>...</td>\n",
       "      <td>...</td>\n",
       "      <td>...</td>\n",
       "      <td>...</td>\n",
       "    </tr>\n",
       "    <tr>\n",
       "      <td>23445</td>\n",
       "      <td>chat transcript:visitor: hi, i made a pruchase...</td>\n",
       "      <td>chat</td>\n",
       "      <td>other</td>\n",
       "      <td>1</td>\n",
       "      <td>en</td>\n",
       "    </tr>\n",
       "    <tr>\n",
       "      <td>23446</td>\n",
       "      <td>chat transcript:visitor: hi, how long will it ...</td>\n",
       "      <td>chat</td>\n",
       "      <td>other</td>\n",
       "      <td>1</td>\n",
       "      <td>en</td>\n",
       "    </tr>\n",
       "    <tr>\n",
       "      <td>23447</td>\n",
       "      <td>chat transcript:visitor: i bought playerunknow...</td>\n",
       "      <td>chat</td>\n",
       "      <td>other</td>\n",
       "      <td>1</td>\n",
       "      <td>en</td>\n",
       "    </tr>\n",
       "    <tr>\n",
       "      <td>23448</td>\n",
       "      <td>chat transcript:visitor: good day i took the w...</td>\n",
       "      <td>chat</td>\n",
       "      <td>other</td>\n",
       "      <td>1</td>\n",
       "      <td>en</td>\n",
       "    </tr>\n",
       "    <tr>\n",
       "      <td>23449</td>\n",
       "      <td>chat transcript:visitor: hivisitor: hellovisit...</td>\n",
       "      <td>chat</td>\n",
       "      <td>other</td>\n",
       "      <td>1</td>\n",
       "      <td>en</td>\n",
       "    </tr>\n",
       "  </tbody>\n",
       "</table>\n",
       "<p>16009 rows × 5 columns</p>\n",
       "</div>"
      ],
      "text/plain": [
       "                                             description channel category  \\\n",
       "0      chat transcript:visitor: i want to buy with pa...    chat       ps   \n",
       "1      chat transcript:visitor: hell i had a problem ...    chat       ps   \n",
       "2      chat transcript:visitor: لا استطيع الشراء ومعل...    chat       ps   \n",
       "3      chat transcript:visitor: im having trouble wit...    chat       ps   \n",
       "4      chat transcript:visitor: hiana: hello. how can...    chat       ps   \n",
       "...                                                  ...     ...      ...   \n",
       "23445  chat transcript:visitor: hi, i made a pruchase...    chat    other   \n",
       "23446  chat transcript:visitor: hi, how long will it ...    chat    other   \n",
       "23447  chat transcript:visitor: i bought playerunknow...    chat    other   \n",
       "23448  chat transcript:visitor: good day i took the w...    chat    other   \n",
       "23449  chat transcript:visitor: hivisitor: hellovisit...    chat    other   \n",
       "\n",
       "       category_flag lang  \n",
       "0                  0   en  \n",
       "1                  0   en  \n",
       "2                  0   en  \n",
       "3                  0   en  \n",
       "4                  0   en  \n",
       "...              ...  ...  \n",
       "23445              1   en  \n",
       "23446              1   en  \n",
       "23447              1   en  \n",
       "23448              1   en  \n",
       "23449              1   en  \n",
       "\n",
       "[16009 rows x 5 columns]"
      ]
     },
     "execution_count": 14,
     "metadata": {},
     "output_type": "execute_result"
    }
   ],
   "source": [
    "#getting only en texts\n",
    "SupportDataframe_eng = SupportRawDataframe[SupportRawDataframe.lang == 'en'][:]\n",
    "SupportDataframe_eng"
   ]
  },
  {
   "cell_type": "code",
   "execution_count": 15,
   "metadata": {},
   "outputs": [],
   "source": [
    "#text tekenization\n",
    "tokenization = textToTokens(SupportDataframe_eng.description)\n",
    "SupportDataframe_eng['description'] = tokenization"
   ]
  },
  {
   "cell_type": "code",
   "execution_count": 16,
   "metadata": {},
   "outputs": [
    {
     "data": {
      "text/html": [
       "<div>\n",
       "<style scoped>\n",
       "    .dataframe tbody tr th:only-of-type {\n",
       "        vertical-align: middle;\n",
       "    }\n",
       "\n",
       "    .dataframe tbody tr th {\n",
       "        vertical-align: top;\n",
       "    }\n",
       "\n",
       "    .dataframe thead th {\n",
       "        text-align: right;\n",
       "    }\n",
       "</style>\n",
       "<table border=\"1\" class=\"dataframe\">\n",
       "  <thead>\n",
       "    <tr style=\"text-align: right;\">\n",
       "      <th></th>\n",
       "      <th>description</th>\n",
       "      <th>channel</th>\n",
       "      <th>category</th>\n",
       "      <th>category_flag</th>\n",
       "      <th>lang</th>\n",
       "    </tr>\n",
       "  </thead>\n",
       "  <tbody>\n",
       "    <tr>\n",
       "      <td>0</td>\n",
       "      <td>[chat, transcript:visitor:, i, want, to, buy, ...</td>\n",
       "      <td>chat</td>\n",
       "      <td>ps</td>\n",
       "      <td>0</td>\n",
       "      <td>en</td>\n",
       "    </tr>\n",
       "    <tr>\n",
       "      <td>1</td>\n",
       "      <td>[chat, transcript:visitor:, hell, i, had, a, p...</td>\n",
       "      <td>chat</td>\n",
       "      <td>ps</td>\n",
       "      <td>0</td>\n",
       "      <td>en</td>\n",
       "    </tr>\n",
       "    <tr>\n",
       "      <td>2</td>\n",
       "      <td>[chat, transcript:visitor:, لا, استطيع, الشراء...</td>\n",
       "      <td>chat</td>\n",
       "      <td>ps</td>\n",
       "      <td>0</td>\n",
       "      <td>en</td>\n",
       "    </tr>\n",
       "    <tr>\n",
       "      <td>3</td>\n",
       "      <td>[chat, transcript:visitor:, im, having, troubl...</td>\n",
       "      <td>chat</td>\n",
       "      <td>ps</td>\n",
       "      <td>0</td>\n",
       "      <td>en</td>\n",
       "    </tr>\n",
       "    <tr>\n",
       "      <td>4</td>\n",
       "      <td>[chat, transcript:visitor:, hiana:, hello., ho...</td>\n",
       "      <td>chat</td>\n",
       "      <td>ps</td>\n",
       "      <td>0</td>\n",
       "      <td>en</td>\n",
       "    </tr>\n",
       "    <tr>\n",
       "      <td>...</td>\n",
       "      <td>...</td>\n",
       "      <td>...</td>\n",
       "      <td>...</td>\n",
       "      <td>...</td>\n",
       "      <td>...</td>\n",
       "    </tr>\n",
       "    <tr>\n",
       "      <td>23445</td>\n",
       "      <td>[chat, transcript:visitor:, hi,, i, made, a, p...</td>\n",
       "      <td>chat</td>\n",
       "      <td>other</td>\n",
       "      <td>1</td>\n",
       "      <td>en</td>\n",
       "    </tr>\n",
       "    <tr>\n",
       "      <td>23446</td>\n",
       "      <td>[chat, transcript:visitor:, hi,, how, long, wi...</td>\n",
       "      <td>chat</td>\n",
       "      <td>other</td>\n",
       "      <td>1</td>\n",
       "      <td>en</td>\n",
       "    </tr>\n",
       "    <tr>\n",
       "      <td>23447</td>\n",
       "      <td>[chat, transcript:visitor:, i, bought, playeru...</td>\n",
       "      <td>chat</td>\n",
       "      <td>other</td>\n",
       "      <td>1</td>\n",
       "      <td>en</td>\n",
       "    </tr>\n",
       "    <tr>\n",
       "      <td>23448</td>\n",
       "      <td>[chat, transcript:visitor:, good, day, i, took...</td>\n",
       "      <td>chat</td>\n",
       "      <td>other</td>\n",
       "      <td>1</td>\n",
       "      <td>en</td>\n",
       "    </tr>\n",
       "    <tr>\n",
       "      <td>23449</td>\n",
       "      <td>[chat, transcript:visitor:, hivisitor:, hellov...</td>\n",
       "      <td>chat</td>\n",
       "      <td>other</td>\n",
       "      <td>1</td>\n",
       "      <td>en</td>\n",
       "    </tr>\n",
       "  </tbody>\n",
       "</table>\n",
       "<p>16009 rows × 5 columns</p>\n",
       "</div>"
      ],
      "text/plain": [
       "                                             description channel category  \\\n",
       "0      [chat, transcript:visitor:, i, want, to, buy, ...    chat       ps   \n",
       "1      [chat, transcript:visitor:, hell, i, had, a, p...    chat       ps   \n",
       "2      [chat, transcript:visitor:, لا, استطيع, الشراء...    chat       ps   \n",
       "3      [chat, transcript:visitor:, im, having, troubl...    chat       ps   \n",
       "4      [chat, transcript:visitor:, hiana:, hello., ho...    chat       ps   \n",
       "...                                                  ...     ...      ...   \n",
       "23445  [chat, transcript:visitor:, hi,, i, made, a, p...    chat    other   \n",
       "23446  [chat, transcript:visitor:, hi,, how, long, wi...    chat    other   \n",
       "23447  [chat, transcript:visitor:, i, bought, playeru...    chat    other   \n",
       "23448  [chat, transcript:visitor:, good, day, i, took...    chat    other   \n",
       "23449  [chat, transcript:visitor:, hivisitor:, hellov...    chat    other   \n",
       "\n",
       "       category_flag lang  \n",
       "0                  0   en  \n",
       "1                  0   en  \n",
       "2                  0   en  \n",
       "3                  0   en  \n",
       "4                  0   en  \n",
       "...              ...  ...  \n",
       "23445              1   en  \n",
       "23446              1   en  \n",
       "23447              1   en  \n",
       "23448              1   en  \n",
       "23449              1   en  \n",
       "\n",
       "[16009 rows x 5 columns]"
      ]
     },
     "execution_count": 16,
     "metadata": {},
     "output_type": "execute_result"
    }
   ],
   "source": [
    "SupportDataframe_eng"
   ]
  },
  {
   "cell_type": "code",
   "execution_count": 17,
   "metadata": {},
   "outputs": [],
   "source": [
    "texts = list(SupportDataframe_eng.description)"
   ]
  },
  {
   "cell_type": "code",
   "execution_count": 18,
   "metadata": {},
   "outputs": [],
   "source": [
    "#cleaning text after garbage\n",
    "my_stopwords = stopwords.words('english')[:20] + ['chat']\n",
    "tests_clear = clearTextAfterGarbage(texts.copy(), my_stopwords)"
   ]
  },
  {
   "cell_type": "code",
   "execution_count": 19,
   "metadata": {},
   "outputs": [],
   "source": [
    "SupportDataframe_eng['description'] = tests_clear"
   ]
  },
  {
   "cell_type": "code",
   "execution_count": 20,
   "metadata": {},
   "outputs": [],
   "source": [
    "category_ps = SupportDataframe_eng[SupportDataframe_eng['category_flag'] == 0]['description']\n",
    "category_other = SupportDataframe_eng[SupportDataframe_eng['category_flag'] == 1]['description']\n",
    "category_ps_list = sum(category_ps.tolist(), [])\n",
    "category_other_list = sum(category_other.tolist(), [])"
   ]
  },
  {
   "cell_type": "code",
   "execution_count": 21,
   "metadata": {},
   "outputs": [],
   "source": [
    "# выполняется оверсемплинг, увеличение набора с category_flag = 0\n",
    "oversampled_data = pd.concat([SupportDataframe_eng[SupportDataframe_eng['category_flag']==1] ,\n",
    "                              SupportDataframe_eng[SupportDataframe_eng['category_flag']==0].sample(len(category_other), \n",
    "                                                                                                    replace=True) ])"
   ]
  },
  {
   "cell_type": "markdown",
   "metadata": {},
   "source": [
    "TRAIN TEST SPLIT DATAFRAMES"
   ]
  },
  {
   "cell_type": "code",
   "execution_count": 22,
   "metadata": {},
   "outputs": [
    {
     "data": {
      "text/plain": [
       "array(['other', 'ps'], dtype=object)"
      ]
     },
     "execution_count": 22,
     "metadata": {},
     "output_type": "execute_result"
    }
   ],
   "source": [
    "#list of unique categories\n",
    "unique_categories = np.unique(oversampled_data.category)\n",
    "unique_categories"
   ]
  },
  {
   "cell_type": "code",
   "execution_count": 23,
   "metadata": {},
   "outputs": [],
   "source": [
    "descriptions = oversampled_data['description']\n",
    "categories = oversampled_data['category_flag']\n",
    "XTrain,XTest,YTrain,YTest = train_test_split(descriptions,\n",
    "                                             categories,\n",
    "                                             stratify = categories,\n",
    "                                             test_size = 0.2,\n",
    "                                             random_state = 40)"
   ]
  },
  {
   "cell_type": "markdown",
   "metadata": {},
   "source": [
    "FROM TEXTS TO VECTORS"
   ]
  },
  {
   "cell_type": "code",
   "execution_count": 24,
   "metadata": {},
   "outputs": [],
   "source": [
    "#initialize Word2Vec model for embedding words to vectors\n",
    "NDim = 100\n",
    "Imdb_w2v = Word2Vec(size = NDim,min_count = 10)\n",
    "Imdb_w2v.build_vocab(XTrain)"
   ]
  },
  {
   "cell_type": "code",
   "execution_count": 25,
   "metadata": {},
   "outputs": [
    {
     "data": {
      "text/plain": [
       "(11370694, 16272265)"
      ]
     },
     "execution_count": 25,
     "metadata": {},
     "output_type": "execute_result"
    }
   ],
   "source": [
    "Imdb_w2v.train(XTrain,total_examples = Imdb_w2v.corpus_count,epochs = Imdb_w2v.epochs)"
   ]
  },
  {
   "cell_type": "code",
   "execution_count": 26,
   "metadata": {},
   "outputs": [],
   "source": [
    "#embedding training messages to vectors for neutral classifier\n",
    "TrainVecs = np.concatenate([buildWordVector(i,NDim,Imdb_w2v) for i in XTrain])"
   ]
  },
  {
   "cell_type": "code",
   "execution_count": null,
   "metadata": {},
   "outputs": [],
   "source": [
    "TrainVecs"
   ]
  },
  {
   "cell_type": "code",
   "execution_count": 27,
   "metadata": {},
   "outputs": [
    {
     "data": {
      "text/plain": [
       "(2865030, 4109085)"
      ]
     },
     "execution_count": 27,
     "metadata": {},
     "output_type": "execute_result"
    }
   ],
   "source": [
    "Imdb_w2v.train(XTest, total_examples = Imdb_w2v.corpus_count, epochs = Imdb_w2v.epochs)"
   ]
  },
  {
   "cell_type": "code",
   "execution_count": 28,
   "metadata": {},
   "outputs": [],
   "source": [
    "TestVecs = np.concatenate([buildWordVector(i,NDim,Imdb_w2v) for i in XTest])"
   ]
  },
  {
   "cell_type": "code",
   "execution_count": null,
   "metadata": {},
   "outputs": [],
   "source": [
    "TestVecs"
   ]
  },
  {
   "cell_type": "markdown",
   "metadata": {},
   "source": [
    "CROSSVALIDATION AND BUILD CLASSIFIER"
   ]
  },
  {
   "cell_type": "code",
   "execution_count": 29,
   "metadata": {},
   "outputs": [],
   "source": [
    "TextClassifier = MLPClassifier(hidden_layer_sizes = (20,10), max_iter = 1000, random_state = 40)"
   ]
  },
  {
   "cell_type": "code",
   "execution_count": 30,
   "metadata": {},
   "outputs": [
    {
     "name": "stdout",
     "output_type": "stream",
     "text": [
      "[0.91646371 0.91914272 0.91646371 0.91548953 0.91790499]\n",
      "0.917092932537453\n"
     ]
    }
   ],
   "source": [
    "Scores = cross_val_score(TextClassifier, TrainVecs, YTrain, cv = 5)\n",
    "print(Scores)\n",
    "print(np.mean(Scores))"
   ]
  },
  {
   "cell_type": "code",
   "execution_count": 31,
   "metadata": {},
   "outputs": [
    {
     "data": {
      "text/plain": [
       "MLPClassifier(activation='relu', alpha=0.0001, batch_size='auto', beta_1=0.9,\n",
       "              beta_2=0.999, early_stopping=False, epsilon=1e-08,\n",
       "              hidden_layer_sizes=(20, 10), learning_rate='constant',\n",
       "              learning_rate_init=0.001, max_iter=1000, momentum=0.9,\n",
       "              n_iter_no_change=10, nesterovs_momentum=True, power_t=0.5,\n",
       "              random_state=40, shuffle=True, solver='adam', tol=0.0001,\n",
       "              validation_fraction=0.1, verbose=False, warm_start=False)"
      ]
     },
     "execution_count": 31,
     "metadata": {},
     "output_type": "execute_result"
    }
   ],
   "source": [
    "TextClassifier.fit(TrainVecs,YTrain)"
   ]
  },
  {
   "cell_type": "code",
   "execution_count": 32,
   "metadata": {
    "scrolled": false
   },
   "outputs": [
    {
     "name": "stdout",
     "output_type": "stream",
     "text": [
      "[[2154  413]\n",
      " [ 644 1922]]\n",
      "              precision    recall  f1-score   support\n",
      "\n",
      "           0       0.77      0.84      0.80      2567\n",
      "           1       0.82      0.75      0.78      2566\n",
      "\n",
      "    accuracy                           0.79      5133\n",
      "   macro avg       0.80      0.79      0.79      5133\n",
      "weighted avg       0.80      0.79      0.79      5133\n",
      "\n"
     ]
    }
   ],
   "source": [
    "pred = TextClassifier.predict(TestVecs)\n",
    "print(confusion_matrix(YTest,pred))\n",
    "print(classification_report(YTest,pred))"
   ]
  },
  {
   "cell_type": "markdown",
   "metadata": {},
   "source": [
    "USE StratifiedKFold"
   ]
  },
  {
   "cell_type": "code",
   "execution_count": 33,
   "metadata": {},
   "outputs": [
    {
     "name": "stdout",
     "output_type": "stream",
     "text": [
      "[0.91646371 0.91914272 0.91646371 0.91548953 0.91790499]\n",
      "0.917092932537453\n"
     ]
    }
   ],
   "source": [
    "KFold=StratifiedKFold(n_splits=5, shuffle=False, random_state=42)\n",
    "Scores = cross_val_score(TextClassifier, TrainVecs, YTrain, cv = KFold)\n",
    "print(Scores)\n",
    "print(np.mean(Scores))"
   ]
  },
  {
   "cell_type": "code",
   "execution_count": 34,
   "metadata": {},
   "outputs": [
    {
     "data": {
      "text/plain": [
       "MLPClassifier(activation='relu', alpha=0.0001, batch_size='auto', beta_1=0.9,\n",
       "              beta_2=0.999, early_stopping=False, epsilon=1e-08,\n",
       "              hidden_layer_sizes=(20, 10), learning_rate='constant',\n",
       "              learning_rate_init=0.001, max_iter=1000, momentum=0.9,\n",
       "              n_iter_no_change=10, nesterovs_momentum=True, power_t=0.5,\n",
       "              random_state=40, shuffle=True, solver='adam', tol=0.0001,\n",
       "              validation_fraction=0.1, verbose=False, warm_start=False)"
      ]
     },
     "execution_count": 34,
     "metadata": {},
     "output_type": "execute_result"
    }
   ],
   "source": [
    "TextClassifier.fit(TrainVecs,YTrain)"
   ]
  },
  {
   "cell_type": "code",
   "execution_count": 35,
   "metadata": {},
   "outputs": [
    {
     "name": "stdout",
     "output_type": "stream",
     "text": [
      "[[2154  413]\n",
      " [ 644 1922]]\n",
      "              precision    recall  f1-score   support\n",
      "\n",
      "           0       0.77      0.84      0.80      2567\n",
      "           1       0.82      0.75      0.78      2566\n",
      "\n",
      "    accuracy                           0.79      5133\n",
      "   macro avg       0.80      0.79      0.79      5133\n",
      "weighted avg       0.80      0.79      0.79      5133\n",
      "\n"
     ]
    }
   ],
   "source": [
    "pred = TextClassifier.predict(TestVecs)\n",
    "print(confusion_matrix(YTest,pred))\n",
    "print(classification_report(YTest,pred))"
   ]
  },
  {
   "cell_type": "markdown",
   "metadata": {},
   "source": [
    "USE TF-IDF"
   ]
  },
  {
   "cell_type": "code",
   "execution_count": 36,
   "metadata": {},
   "outputs": [],
   "source": [
    "new_XTrain=[' '.join(i) for i in XTrain]\n",
    "new_XTest=[' '.join(i) for i in XTest]"
   ]
  },
  {
   "cell_type": "code",
   "execution_count": 37,
   "metadata": {},
   "outputs": [],
   "source": [
    "text_clf=TfidfVectorizer()\n",
    "tfidf = text_clf.fit_transform(new_XTrain)\n",
    "MLP = MLPClassifier(hidden_layer_sizes = (20,10), max_iter = 1000, random_state = 40).fit(tfidf,YTrain)\n",
    "idf =  MLP.predict(text_clf.transform(new_XTest))"
   ]
  },
  {
   "cell_type": "code",
   "execution_count": 38,
   "metadata": {
    "scrolled": true
   },
   "outputs": [
    {
     "name": "stdout",
     "output_type": "stream",
     "text": [
      "[[2550   17]\n",
      " [ 216 2350]]\n",
      "              precision    recall  f1-score   support\n",
      "\n",
      "           0       0.92      0.99      0.96      2567\n",
      "           1       0.99      0.92      0.95      2566\n",
      "\n",
      "    accuracy                           0.95      5133\n",
      "   macro avg       0.96      0.95      0.95      5133\n",
      "weighted avg       0.96      0.95      0.95      5133\n",
      "\n"
     ]
    }
   ],
   "source": [
    "print(confusion_matrix(YTest,idf))\n",
    "print(classification_report(YTest,idf))"
   ]
  },
  {
   "cell_type": "code",
   "execution_count": null,
   "metadata": {},
   "outputs": [],
   "source": []
  }
 ],
 "metadata": {
  "kernelspec": {
   "display_name": "Python 3",
   "language": "python",
   "name": "python3"
  },
  "language_info": {
   "codemirror_mode": {
    "name": "ipython",
    "version": 3
   },
   "file_extension": ".py",
   "mimetype": "text/x-python",
   "name": "python",
   "nbconvert_exporter": "python",
   "pygments_lexer": "ipython3",
   "version": "3.7.4"
  }
 },
 "nbformat": 4,
 "nbformat_minor": 4
}
